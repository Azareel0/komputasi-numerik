{
  "nbformat": 4,
  "nbformat_minor": 0,
  "metadata": {
    "colab": {
      "provenance": [],
      "authorship_tag": "ABX9TyO2c+y3X3ks8NHPzocAFNor",
      "include_colab_link": true
    },
    "kernelspec": {
      "name": "python3",
      "display_name": "Python 3"
    },
    "language_info": {
      "name": "python"
    }
  },
  "cells": [
    {
      "cell_type": "markdown",
      "metadata": {
        "id": "view-in-github",
        "colab_type": "text"
      },
      "source": [
        "<a href=\"https://colab.research.google.com/github/Azareel0/komputasi-numerik/blob/main/Bisection.ipynb\" target=\"_parent\"><img src=\"https://colab.research.google.com/assets/colab-badge.svg\" alt=\"Open In Colab\"/></a>"
      ]
    },
    {
      "cell_type": "markdown",
      "source": [
        "tes tes tes"
      ],
      "metadata": {
        "id": "osL7xEjNMGMJ"
      }
    },
    {
      "cell_type": "markdown",
      "source": [
        "y=x^2+2x-3"
      ],
      "metadata": {
        "id": "D0eaRnMX3eKk"
      }
    },
    {
      "cell_type": "code",
      "source": [
        "import numpy;"
      ],
      "metadata": {
        "id": "Se-3Z4Il3d59"
      },
      "execution_count": null,
      "outputs": []
    },
    {
      "cell_type": "code",
      "source": [
        "a=0\n",
        "b=2\n",
        "c=(a+b)/2"
      ],
      "metadata": {
        "id": "c-H4W1Ie3u7O"
      },
      "execution_count": null,
      "outputs": []
    },
    {
      "cell_type": "code",
      "source": [
        "while((c*c + 2*c -3)> 0.0005):\n",
        "  if((c*c + 2*c -3)*(a*a + 2*a -3)< 0):\n",
        "    b=c\n",
        "  else:\n",
        "    a=c\n",
        "  c = (a+b)/2\n",
        "print(c)"
      ],
      "metadata": {
        "colab": {
          "base_uri": "https://localhost:8080/"
        },
        "id": "ZfsZW4--3dtb",
        "outputId": "cc39627d-2322-43dd-9a29-e7df658d3086"
      },
      "execution_count": null,
      "outputs": [
        {
          "output_type": "stream",
          "name": "stdout",
          "text": [
            "1.0\n"
          ]
        }
      ]
    },
    {
      "cell_type": "code",
      "execution_count": null,
      "metadata": {
        "colab": {
          "base_uri": "https://localhost:8080/"
        },
        "id": "UKHgLhmU0rF_",
        "outputId": "8f56d612-a94a-4429-8451-c373eba5a5f2"
      },
      "outputs": [
        {
          "output_type": "stream",
          "name": "stdout",
          "text": [
            "-3\n",
            "0.0\n"
          ]
        }
      ],
      "source": [
        "yA = a*a + 2*a -3\n",
        "yC = c*c + 2*c -3\n",
        "print(yA)\n",
        "print(yC)"
      ]
    },
    {
      "cell_type": "code",
      "source": [
        "if(yA*yC)<0:\n",
        "  b=c\n",
        "else:\n",
        "  a=c\n",
        "\n",
        "print(a,b,c)"
      ],
      "metadata": {
        "colab": {
          "base_uri": "https://localhost:8080/"
        },
        "id": "07NJ7YtC4YP2",
        "outputId": "d83df16f-b33e-400a-fd93-973dd291ff11"
      },
      "execution_count": null,
      "outputs": [
        {
          "output_type": "stream",
          "name": "stdout",
          "text": [
            "1.0 2 1.0\n"
          ]
        }
      ]
    }
  ]
}